{
  "nbformat": 4,
  "nbformat_minor": 0,
  "metadata": {
    "colab": {
      "name": "Perceptron for Binary classification.ipynb",
      "provenance": [],
      "collapsed_sections": []
    },
    "kernelspec": {
      "name": "python3",
      "display_name": "Python 3"
    },
    "language_info": {
      "name": "python"
    }
  },
  "cells": [
    {
      "cell_type": "code",
      "execution_count": 1,
      "metadata": {
        "id": "ugCLpW6DsfcC"
      },
      "outputs": [],
      "source": [
        "import pandas as pd\n",
        "import numpy as np\n",
        "import matplotlib.pyplot as plt\n",
        "import seaborn as sns"
      ]
    },
    {
      "cell_type": "code",
      "source": [
        "import tensorflow.keras\n",
        "from tensorflow.keras.models import Sequential\n",
        "from tensorflow.keras.layers import Dense"
      ],
      "metadata": {
        "id": "WJkrVGh-sy2H"
      },
      "execution_count": 3,
      "outputs": []
    },
    {
      "cell_type": "code",
      "source": [
        "speed_data = pd.read_csv(\"speed_decision_data.csv\")\n",
        "speed_data.head()"
      ],
      "metadata": {
        "colab": {
          "base_uri": "https://localhost:8080/",
          "height": 206
        },
        "id": "-0vO5cVgs3bM",
        "outputId": "9458ee49-24fc-469f-dfbd-30fb0bc08a18"
      },
      "execution_count": 4,
      "outputs": [
        {
          "output_type": "execute_result",
          "data": {
            "text/plain": [
              "   1 - Distance From Bump  Height of Bump  Speed\n",
              "0                0.575374        0.680337      0\n",
              "1                0.376002        0.278661      1\n",
              "2                0.973890        0.741585      0\n",
              "3                0.310378        0.342374      1\n",
              "4                0.109521        0.268304      1"
            ],
            "text/html": [
              "\n",
              "  <div id=\"df-6ecf2368-493f-4665-8bb1-2957e46c3fd6\">\n",
              "    <div class=\"colab-df-container\">\n",
              "      <div>\n",
              "<style scoped>\n",
              "    .dataframe tbody tr th:only-of-type {\n",
              "        vertical-align: middle;\n",
              "    }\n",
              "\n",
              "    .dataframe tbody tr th {\n",
              "        vertical-align: top;\n",
              "    }\n",
              "\n",
              "    .dataframe thead th {\n",
              "        text-align: right;\n",
              "    }\n",
              "</style>\n",
              "<table border=\"1\" class=\"dataframe\">\n",
              "  <thead>\n",
              "    <tr style=\"text-align: right;\">\n",
              "      <th></th>\n",
              "      <th>1 - Distance From Bump</th>\n",
              "      <th>Height of Bump</th>\n",
              "      <th>Speed</th>\n",
              "    </tr>\n",
              "  </thead>\n",
              "  <tbody>\n",
              "    <tr>\n",
              "      <th>0</th>\n",
              "      <td>0.575374</td>\n",
              "      <td>0.680337</td>\n",
              "      <td>0</td>\n",
              "    </tr>\n",
              "    <tr>\n",
              "      <th>1</th>\n",
              "      <td>0.376002</td>\n",
              "      <td>0.278661</td>\n",
              "      <td>1</td>\n",
              "    </tr>\n",
              "    <tr>\n",
              "      <th>2</th>\n",
              "      <td>0.973890</td>\n",
              "      <td>0.741585</td>\n",
              "      <td>0</td>\n",
              "    </tr>\n",
              "    <tr>\n",
              "      <th>3</th>\n",
              "      <td>0.310378</td>\n",
              "      <td>0.342374</td>\n",
              "      <td>1</td>\n",
              "    </tr>\n",
              "    <tr>\n",
              "      <th>4</th>\n",
              "      <td>0.109521</td>\n",
              "      <td>0.268304</td>\n",
              "      <td>1</td>\n",
              "    </tr>\n",
              "  </tbody>\n",
              "</table>\n",
              "</div>\n",
              "      <button class=\"colab-df-convert\" onclick=\"convertToInteractive('df-6ecf2368-493f-4665-8bb1-2957e46c3fd6')\"\n",
              "              title=\"Convert this dataframe to an interactive table.\"\n",
              "              style=\"display:none;\">\n",
              "        \n",
              "  <svg xmlns=\"http://www.w3.org/2000/svg\" height=\"24px\"viewBox=\"0 0 24 24\"\n",
              "       width=\"24px\">\n",
              "    <path d=\"M0 0h24v24H0V0z\" fill=\"none\"/>\n",
              "    <path d=\"M18.56 5.44l.94 2.06.94-2.06 2.06-.94-2.06-.94-.94-2.06-.94 2.06-2.06.94zm-11 1L8.5 8.5l.94-2.06 2.06-.94-2.06-.94L8.5 2.5l-.94 2.06-2.06.94zm10 10l.94 2.06.94-2.06 2.06-.94-2.06-.94-.94-2.06-.94 2.06-2.06.94z\"/><path d=\"M17.41 7.96l-1.37-1.37c-.4-.4-.92-.59-1.43-.59-.52 0-1.04.2-1.43.59L10.3 9.45l-7.72 7.72c-.78.78-.78 2.05 0 2.83L4 21.41c.39.39.9.59 1.41.59.51 0 1.02-.2 1.41-.59l7.78-7.78 2.81-2.81c.8-.78.8-2.07 0-2.86zM5.41 20L4 18.59l7.72-7.72 1.47 1.35L5.41 20z\"/>\n",
              "  </svg>\n",
              "      </button>\n",
              "      \n",
              "  <style>\n",
              "    .colab-df-container {\n",
              "      display:flex;\n",
              "      flex-wrap:wrap;\n",
              "      gap: 12px;\n",
              "    }\n",
              "\n",
              "    .colab-df-convert {\n",
              "      background-color: #E8F0FE;\n",
              "      border: none;\n",
              "      border-radius: 50%;\n",
              "      cursor: pointer;\n",
              "      display: none;\n",
              "      fill: #1967D2;\n",
              "      height: 32px;\n",
              "      padding: 0 0 0 0;\n",
              "      width: 32px;\n",
              "    }\n",
              "\n",
              "    .colab-df-convert:hover {\n",
              "      background-color: #E2EBFA;\n",
              "      box-shadow: 0px 1px 2px rgba(60, 64, 67, 0.3), 0px 1px 3px 1px rgba(60, 64, 67, 0.15);\n",
              "      fill: #174EA6;\n",
              "    }\n",
              "\n",
              "    [theme=dark] .colab-df-convert {\n",
              "      background-color: #3B4455;\n",
              "      fill: #D2E3FC;\n",
              "    }\n",
              "\n",
              "    [theme=dark] .colab-df-convert:hover {\n",
              "      background-color: #434B5C;\n",
              "      box-shadow: 0px 1px 3px 1px rgba(0, 0, 0, 0.15);\n",
              "      filter: drop-shadow(0px 1px 2px rgba(0, 0, 0, 0.3));\n",
              "      fill: #FFFFFF;\n",
              "    }\n",
              "  </style>\n",
              "\n",
              "      <script>\n",
              "        const buttonEl =\n",
              "          document.querySelector('#df-6ecf2368-493f-4665-8bb1-2957e46c3fd6 button.colab-df-convert');\n",
              "        buttonEl.style.display =\n",
              "          google.colab.kernel.accessAllowed ? 'block' : 'none';\n",
              "\n",
              "        async function convertToInteractive(key) {\n",
              "          const element = document.querySelector('#df-6ecf2368-493f-4665-8bb1-2957e46c3fd6');\n",
              "          const dataTable =\n",
              "            await google.colab.kernel.invokeFunction('convertToInteractive',\n",
              "                                                     [key], {});\n",
              "          if (!dataTable) return;\n",
              "\n",
              "          const docLinkHtml = 'Like what you see? Visit the ' +\n",
              "            '<a target=\"_blank\" href=https://colab.research.google.com/notebooks/data_table.ipynb>data table notebook</a>'\n",
              "            + ' to learn more about interactive tables.';\n",
              "          element.innerHTML = '';\n",
              "          dataTable['output_type'] = 'display_data';\n",
              "          await google.colab.output.renderOutput(dataTable, element);\n",
              "          const docLink = document.createElement('div');\n",
              "          docLink.innerHTML = docLinkHtml;\n",
              "          element.appendChild(docLink);\n",
              "        }\n",
              "      </script>\n",
              "    </div>\n",
              "  </div>\n",
              "  "
            ]
          },
          "metadata": {},
          "execution_count": 4
        }
      ]
    },
    {
      "cell_type": "code",
      "source": [
        "sns.scatterplot(speed_data['1 - Distance From Bump'], speed_data['Height of Bump'], hue = speed_data['Speed'])"
      ],
      "metadata": {
        "colab": {
          "base_uri": "https://localhost:8080/",
          "height": 354
        },
        "id": "G4gX5VUNtki7",
        "outputId": "a1a1ea28-cfe1-4ebb-a4c8-7aad41d294c7"
      },
      "execution_count": 6,
      "outputs": [
        {
          "output_type": "stream",
          "name": "stderr",
          "text": [
            "/usr/local/lib/python3.7/dist-packages/seaborn/_decorators.py:43: FutureWarning: Pass the following variables as keyword args: x, y. From version 0.12, the only valid positional argument will be `data`, and passing other arguments without an explicit keyword will result in an error or misinterpretation.\n",
            "  FutureWarning\n"
          ]
        },
        {
          "output_type": "execute_result",
          "data": {
            "text/plain": [
              "<matplotlib.axes._subplots.AxesSubplot at 0x7fefab56db90>"
            ]
          },
          "metadata": {},
          "execution_count": 6
        },
        {
          "output_type": "display_data",
          "data": {
            "text/plain": [
              "<Figure size 432x288 with 1 Axes>"
            ],
            "image/png": "[encoded data removed]"
          },
          "metadata": {
            "needs_background": "light"
          }
        }
      ]
    },
    {
      "cell_type": "code",
      "source": [
        "X_train = speed_data[['1 - Distance From Bump', 'Height of Bump']]\n",
        "y_train = speed_data['Speed']"
      ],
      "metadata": {
        "id": "xO_JQz86uFXZ"
      },
      "execution_count": 7,
      "outputs": []
    },
    {
      "cell_type": "code",
      "source": [
        "model = Sequential()\n",
        "model.add(Dense(1, input_dim=2, activation='sigmoid'))\n",
        "model.compile(loss='binary_crossentropy', optimizer='adam')\n",
        "model.fit(X_train, y_train, epochs=100, verbose=2)"
      ],
      "metadata": {
        "colab": {
          "base_uri": "https://localhost:8080/"
        },
        "id": "81MHcydmuPC_",
        "outputId": "3803f502-25a3-41dd-e1a4-701fd9a6f70a"
      },
      "execution_count": 13,
      "outputs": [
        {
          "output_type": "stream",
          "name": "stdout",
          "text": [
            "Epoch 1/100\n",
            "32/32 - 1s - loss: 0.6377 - 1s/epoch - 32ms/step\n",
            "Epoch 2/100\n",
            "32/32 - 0s - loss: 0.6324 - 52ms/epoch - 2ms/step\n",
            "Epoch 3/100\n",
            "32/32 - 0s - loss: 0.6273 - 65ms/epoch - 2ms/step\n",
            "Epoch 4/100\n",
            "32/32 - 0s - loss: 0.6222 - 63ms/epoch - 2ms/step\n",
            "Epoch 5/100\n",
            "32/32 - 0s - loss: 0.6171 - 65ms/epoch - 2ms/step\n",
            "Epoch 6/100\n",
            "32/32 - 0s - loss: 0.6122 - 96ms/epoch - 3ms/step\n",
            "Epoch 7/100\n",
            "32/32 - 0s - loss: 0.6073 - 110ms/epoch - 3ms/step\n",
            "Epoch 8/100\n",
            "32/32 - 0s - loss: 0.6025 - 84ms/epoch - 3ms/step\n",
            "Epoch 9/100\n",
            "32/32 - 0s - loss: 0.5976 - 58ms/epoch - 2ms/step\n",
            "Epoch 10/100\n",
            "32/32 - 0s - loss: 0.5929 - 65ms/epoch - 2ms/step\n",
            "Epoch 11/100\n",
            "32/32 - 0s - loss: 0.5881 - 42ms/epoch - 1ms/step\n",
            "Epoch 12/100\n",
            "32/32 - 0s - loss: 0.5834 - 38ms/epoch - 1ms/step\n",
            "Epoch 13/100\n",
            "32/32 - 0s - loss: 0.5787 - 37ms/epoch - 1ms/step\n",
            "Epoch 14/100\n",
            "32/32 - 0s - loss: 0.5742 - 44ms/epoch - 1ms/step\n",
            "Epoch 15/100\n",
            "32/32 - 0s - loss: 0.5696 - 43ms/epoch - 1ms/step\n",
            "Epoch 16/100\n",
            "32/32 - 0s - loss: 0.5651 - 37ms/epoch - 1ms/step\n",
            "Epoch 17/100\n",
            "32/32 - 0s - loss: 0.5606 - 35ms/epoch - 1ms/step\n",
            "Epoch 18/100\n",
            "32/32 - 0s - loss: 0.5562 - 36ms/epoch - 1ms/step\n",
            "Epoch 19/100\n",
            "32/32 - 0s - loss: 0.5519 - 36ms/epoch - 1ms/step\n",
            "Epoch 20/100\n",
            "32/32 - 0s - loss: 0.5475 - 38ms/epoch - 1ms/step\n",
            "Epoch 21/100\n",
            "32/32 - 0s - loss: 0.5432 - 47ms/epoch - 1ms/step\n",
            "Epoch 22/100\n",
            "32/32 - 0s - loss: 0.5389 - 39ms/epoch - 1ms/step\n",
            "Epoch 23/100\n",
            "32/32 - 0s - loss: 0.5347 - 39ms/epoch - 1ms/step\n",
            "Epoch 24/100\n",
            "32/32 - 0s - loss: 0.5306 - 41ms/epoch - 1ms/step\n",
            "Epoch 25/100\n",
            "32/32 - 0s - loss: 0.5265 - 42ms/epoch - 1ms/step\n",
            "Epoch 26/100\n",
            "32/32 - 0s - loss: 0.5223 - 45ms/epoch - 1ms/step\n",
            "Epoch 27/100\n",
            "32/32 - 0s - loss: 0.5183 - 35ms/epoch - 1ms/step\n",
            "Epoch 28/100\n",
            "32/32 - 0s - loss: 0.5143 - 35ms/epoch - 1ms/step\n",
            "Epoch 29/100\n",
            "32/32 - 0s - loss: 0.5103 - 36ms/epoch - 1ms/step\n",
            "Epoch 30/100\n",
            "32/32 - 0s - loss: 0.5063 - 35ms/epoch - 1ms/step\n",
            "Epoch 31/100\n",
            "32/32 - 0s - loss: 0.5025 - 35ms/epoch - 1ms/step\n",
            "Epoch 32/100\n",
            "32/32 - 0s - loss: 0.4985 - 39ms/epoch - 1ms/step\n",
            "Epoch 33/100\n",
            "32/32 - 0s - loss: 0.4947 - 36ms/epoch - 1ms/step\n",
            "Epoch 34/100\n",
            "32/32 - 0s - loss: 0.4908 - 35ms/epoch - 1ms/step\n",
            "Epoch 35/100\n",
            "32/32 - 0s - loss: 0.4871 - 34ms/epoch - 1ms/step\n",
            "Epoch 36/100\n",
            "32/32 - 0s - loss: 0.4833 - 35ms/epoch - 1ms/step\n",
            "Epoch 37/100\n",
            "32/32 - 0s - loss: 0.4796 - 35ms/epoch - 1ms/step\n",
            "Epoch 38/100\n",
            "32/32 - 0s - loss: 0.4759 - 39ms/epoch - 1ms/step\n",
            "Epoch 39/100\n",
            "32/32 - 0s - loss: 0.4723 - 35ms/epoch - 1ms/step\n",
            "Epoch 40/100\n",
            "32/32 - 0s - loss: 0.4687 - 40ms/epoch - 1ms/step\n",
            "Epoch 41/100\n",
            "32/32 - 0s - loss: 0.4651 - 38ms/epoch - 1ms/step\n",
            "Epoch 42/100\n",
            "32/32 - 0s - loss: 0.4615 - 38ms/epoch - 1ms/step\n",
            "Epoch 43/100\n",
            "32/32 - 0s - loss: 0.4580 - 37ms/epoch - 1ms/step\n",
            "Epoch 44/100\n",
            "32/32 - 0s - loss: 0.4545 - 43ms/epoch - 1ms/step\n",
            "Epoch 45/100\n",
            "32/32 - 0s - loss: 0.4511 - 46ms/epoch - 1ms/step\n",
            "Epoch 46/100\n",
            "32/32 - 0s - loss: 0.4476 - 36ms/epoch - 1ms/step\n",
            "Epoch 47/100\n",
            "32/32 - 0s - loss: 0.4442 - 34ms/epoch - 1ms/step\n",
            "Epoch 48/100\n",
            "32/32 - 0s - loss: 0.4408 - 35ms/epoch - 1ms/step\n",
            "Epoch 49/100\n",
            "32/32 - 0s - loss: 0.4375 - 38ms/epoch - 1ms/step\n",
            "Epoch 50/100\n",
            "32/32 - 0s - loss: 0.4342 - 37ms/epoch - 1ms/step\n",
            "Epoch 51/100\n",
            "32/32 - 0s - loss: 0.4309 - 37ms/epoch - 1ms/step\n",
            "Epoch 52/100\n",
            "32/32 - 0s - loss: 0.4277 - 37ms/epoch - 1ms/step\n",
            "Epoch 53/100\n",
            "32/32 - 0s - loss: 0.4245 - 35ms/epoch - 1ms/step\n",
            "Epoch 54/100\n",
            "32/32 - 0s - loss: 0.4213 - 34ms/epoch - 1ms/step\n",
            "Epoch 55/100\n",
            "32/32 - 0s - loss: 0.4181 - 34ms/epoch - 1ms/step\n",
            "Epoch 56/100\n",
            "32/32 - 0s - loss: 0.4150 - 39ms/epoch - 1ms/step\n",
            "Epoch 57/100\n",
            "32/32 - 0s - loss: 0.4119 - 35ms/epoch - 1ms/step\n",
            "Epoch 58/100\n",
            "32/32 - 0s - loss: 0.4088 - 39ms/epoch - 1ms/step\n",
            "Epoch 59/100\n",
            "32/32 - 0s - loss: 0.4058 - 37ms/epoch - 1ms/step\n",
            "Epoch 60/100\n",
            "32/32 - 0s - loss: 0.4027 - 36ms/epoch - 1ms/step\n",
            "Epoch 61/100\n",
            "32/32 - 0s - loss: 0.3998 - 34ms/epoch - 1ms/step\n",
            "Epoch 62/100\n",
            "32/32 - 0s - loss: 0.3968 - 38ms/epoch - 1ms/step\n",
            "Epoch 63/100\n",
            "32/32 - 0s - loss: 0.3938 - 49ms/epoch - 2ms/step\n",
            "Epoch 64/100\n",
            "32/32 - 0s - loss: 0.3909 - 40ms/epoch - 1ms/step\n",
            "Epoch 65/100\n",
            "32/32 - 0s - loss: 0.3880 - 38ms/epoch - 1ms/step\n",
            "Epoch 66/100\n",
            "32/32 - 0s - loss: 0.3851 - 41ms/epoch - 1ms/step\n",
            "Epoch 67/100\n",
            "32/32 - 0s - loss: 0.3823 - 38ms/epoch - 1ms/step\n",
            "Epoch 68/100\n",
            "32/32 - 0s - loss: 0.3795 - 42ms/epoch - 1ms/step\n",
            "Epoch 69/100\n",
            "32/32 - 0s - loss: 0.3767 - 43ms/epoch - 1ms/step\n",
            "Epoch 70/100\n",
            "32/32 - 0s - loss: 0.3739 - 38ms/epoch - 1ms/step\n",
            "Epoch 71/100\n",
            "32/32 - 0s - loss: 0.3712 - 38ms/epoch - 1ms/step\n",
            "Epoch 72/100\n",
            "32/32 - 0s - loss: 0.3684 - 37ms/epoch - 1ms/step\n",
            "Epoch 73/100\n",
            "32/32 - 0s - loss: 0.3657 - 38ms/epoch - 1ms/step\n",
            "Epoch 74/100\n",
            "32/32 - 0s - loss: 0.3630 - 45ms/epoch - 1ms/step\n",
            "Epoch 75/100\n",
            "32/32 - 0s - loss: 0.3603 - 40ms/epoch - 1ms/step\n",
            "Epoch 76/100\n",
            "32/32 - 0s - loss: 0.3577 - 40ms/epoch - 1ms/step\n",
            "Epoch 77/100\n",
            "32/32 - 0s - loss: 0.3551 - 40ms/epoch - 1ms/step\n",
            "Epoch 78/100\n",
            "32/32 - 0s - loss: 0.3525 - 43ms/epoch - 1ms/step\n",
            "Epoch 79/100\n",
            "32/32 - 0s - loss: 0.3499 - 47ms/epoch - 1ms/step\n",
            "Epoch 80/100\n",
            "32/32 - 0s - loss: 0.3473 - 37ms/epoch - 1ms/step\n",
            "Epoch 81/100\n",
            "32/32 - 0s - loss: 0.3448 - 37ms/epoch - 1ms/step\n",
            "Epoch 82/100\n",
            "32/32 - 0s - loss: 0.3423 - 39ms/epoch - 1ms/step\n",
            "Epoch 83/100\n",
            "32/32 - 0s - loss: 0.3398 - 42ms/epoch - 1ms/step\n",
            "Epoch 84/100\n",
            "32/32 - 0s - loss: 0.3374 - 39ms/epoch - 1ms/step\n",
            "Epoch 85/100\n",
            "32/32 - 0s - loss: 0.3349 - 40ms/epoch - 1ms/step\n",
            "Epoch 86/100\n",
            "32/32 - 0s - loss: 0.3325 - 44ms/epoch - 1ms/step\n",
            "Epoch 87/100\n",
            "32/32 - 0s - loss: 0.3301 - 41ms/epoch - 1ms/step\n",
            "Epoch 88/100\n",
            "32/32 - 0s - loss: 0.3278 - 37ms/epoch - 1ms/step\n",
            "Epoch 89/100\n",
            "32/32 - 0s - loss: 0.3254 - 37ms/epoch - 1ms/step\n",
            "Epoch 90/100\n",
            "32/32 - 0s - loss: 0.3230 - 36ms/epoch - 1ms/step\n",
            "Epoch 91/100\n",
            "32/32 - 0s - loss: 0.3207 - 42ms/epoch - 1ms/step\n",
            "Epoch 92/100\n",
            "32/32 - 0s - loss: 0.3184 - 42ms/epoch - 1ms/step\n",
            "Epoch 93/100\n",
            "32/32 - 0s - loss: 0.3161 - 54ms/epoch - 2ms/step\n",
            "Epoch 94/100\n",
            "32/32 - 0s - loss: 0.3138 - 42ms/epoch - 1ms/step\n",
            "Epoch 95/100\n",
            "32/32 - 0s - loss: 0.3116 - 43ms/epoch - 1ms/step\n",
            "Epoch 96/100\n",
            "32/32 - 0s - loss: 0.3093 - 37ms/epoch - 1ms/step\n",
            "Epoch 97/100\n",
            "32/32 - 0s - loss: 0.3071 - 36ms/epoch - 1ms/step\n",
            "Epoch 98/100\n",
            "32/32 - 0s - loss: 0.3050 - 40ms/epoch - 1ms/step\n",
            "Epoch 99/100\n",
            "32/32 - 0s - loss: 0.3028 - 40ms/epoch - 1ms/step\n",
            "Epoch 100/100\n",
            "32/32 - 0s - loss: 0.3006 - 40ms/epoch - 1ms/step\n"
          ]
        },
        {
          "output_type": "execute_result",
          "data": {
            "text/plain": [
              "<keras.callbacks.History at 0x7fefa5dc7f90>"
            ]
          },
          "metadata": {},
          "execution_count": 13
        }
      ]
    },
    {
      "cell_type": "code",
      "source": [
        "model.summary()"
      ],
      "metadata": {
        "colab": {
          "base_uri": "https://localhost:8080/"
        },
        "id": "IgeaJ_FguR5w",
        "outputId": "3ac94e98-cb4b-4ab9-aa1d-fa64f82ade47"
      },
      "execution_count": 14,
      "outputs": [
        {
          "output_type": "stream",
          "name": "stdout",
          "text": [
            "Model: \"sequential_1\"\n",
            "_________________________________________________________________\n",
            " Layer (type)                Output Shape              Param #   \n",
            "=================================================================\n",
            " dense_1 (Dense)             (None, 1)                 3         \n",
            "                                                                 \n",
            "=================================================================\n",
            "Total params: 3\n",
            "Trainable params: 3\n",
            "Non-trainable params: 0\n",
            "_________________________________________________________________\n"
          ]
        }
      ]
    },
    {
      "cell_type": "code",
      "source": [
        "y_train_predict = (model.predict(X_train) > 0.5).astype(\"int32\")"
      ],
      "metadata": {
        "id": "UHv1Gn8euVtw"
      },
      "execution_count": 15,
      "outputs": []
    },
    {
      "cell_type": "code",
      "source": [
        "from sklearn.svm import SVC \n",
        "from sklearn.metrics import classification_report, confusion_matrix\n",
        "\n",
        "cm = confusion_matrix(y_train, y_train_predict)\n",
        "\n",
        "sns.heatmap(cm, annot=True, fmt=\"d\")"
      ],
      "metadata": {
        "colab": {
          "base_uri": "https://localhost:8080/",
          "height": 287
        },
        "id": "7PFtqP12uYHJ",
        "outputId": "00efd91f-8a25-4de4-9c8a-faad5d704297"
      },
      "execution_count": 16,
      "outputs": [
        {
          "output_type": "execute_result",
          "data": {
            "text/plain": [
              "<matplotlib.axes._subplots.AxesSubplot at 0x7fefa2fc2cd0>"
            ]
          },
          "metadata": {},
          "execution_count": 16
        },
        {
          "output_type": "display_data",
          "data": {
            "text/plain": [
              "<Figure size 432x288 with 2 Axes>"
            ],
            "image/png": "[encoded data removed]"
          },
          "metadata": {
            "needs_background": "light"
          }
        }
      ]
    },
    {
      "cell_type": "code",
      "source": [
        "from matplotlib.colors import ListedColormap\n",
        "X_set, y_set = X_train.values, y_train.values\n",
        "X1, X2 = np.meshgrid(np.arange(start = X_set[:, 0].min() , stop = X_set[:, 0].max(), step = 0.01),\n",
        "                     np.arange(start = X_set[:, 1].min(), stop = X_set[:, 1].max(), step = 0.01))\n",
        "plt.contourf(X1, X2, model.predict(np.array([X1.ravel(), X2.ravel()]).T).reshape(X1.shape),\n",
        "             alpha = 0.75, cmap = ListedColormap(('red', 'green')))\n",
        "plt.xlim(X1.min(), X1.max())\n",
        "plt.ylim(X2.min(), X2.max())\n",
        "for i, j in enumerate(np.unique(y_set)):\n",
        "    plt.scatter(X_set[y_set == j, 0], X_set[y_set == j, 1],\n",
        "                c = ListedColormap(('red', 'green'))(i), label = j)\n",
        "    \n",
        "plt.title('Training Classification Results')\n",
        "plt.xlabel('1-Distance from Bump')\n",
        "plt.ylabel('Height of Bump')\n",
        "plt.legend()\n",
        "plt.show()"
      ],
      "metadata": {
        "colab": {
          "base_uri": "https://localhost:8080/",
          "height": 351
        },
        "id": "LYch1uBguaDf",
        "outputId": "95844962-9ce4-4f28-fc71-25c255b64d8b"
      },
      "execution_count": 17,
      "outputs": [
        {
          "output_type": "stream",
          "name": "stderr",
          "text": [
            "*c* argument looks like a single numeric RGB or RGBA sequence, which should be avoided as value-mapping will have precedence in case its length matches with *x* & *y*.  Please use the *color* keyword-argument or provide a 2-D array with a single row if you intend to specify the same RGB or RGBA value for all points.\n",
            "*c* argument looks like a single numeric RGB or RGBA sequence, which should be avoided as value-mapping will have precedence in case its length matches with *x* & *y*.  Please use the *color* keyword-argument or provide a 2-D array with a single row if you intend to specify the same RGB or RGBA value for all points.\n"
          ]
        },
        {
          "output_type": "display_data",
          "data": {
            "text/plain": [
              "<Figure size 432x288 with 1 Axes>"
            ],
            "image/png": "[encoded data removed]"
          },
          "metadata": {
            "needs_background": "light"
          }
        }
      ]
    },
    {
      "cell_type": "code",
      "source": [
        "weights"
      ],
      "metadata": {
        "colab": {
          "base_uri": "https://localhost:8080/"
        },
        "id": "QL04aWf2ubyZ",
        "outputId": "e42cc2d1-1e17-4665-e2af-5aec08a436f8"
      },
      "execution_count": 19,
      "outputs": [
        {
          "output_type": "execute_result",
          "data": {
            "text/plain": [
              "array([[-1.8161365],\n",
              "       [-3.4431252]], dtype=float32)"
            ]
          },
          "metadata": {},
          "execution_count": 19
        }
      ]
    },
    {
      "cell_type": "code",
      "source": [
        "biases"
      ],
      "metadata": {
        "colab": {
          "base_uri": "https://localhost:8080/"
        },
        "id": "Mfp3Klztu-wF",
        "outputId": "2acc56f8-5f08-400f-ba7e-d3883b00c758"
      },
      "execution_count": 20,
      "outputs": [
        {
          "output_type": "execute_result",
          "data": {
            "text/plain": [
              "array([2.1977012], dtype=float32)"
            ]
          },
          "metadata": {},
          "execution_count": 20
        }
      ]
    }
  ]
}