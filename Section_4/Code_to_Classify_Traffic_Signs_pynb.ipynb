{
  "nbformat": 4,
  "nbformat_minor": 0,
  "metadata": {
    "colab": {
      "name": "Code to Classify Traffic Signs.pynb",
      "provenance": [],
      "collapsed_sections": []
    },
    "kernelspec": {
      "name": "python3",
      "display_name": "Python 3"
    },
    "language_info": {
      "name": "python"
    }
  },
  "cells": [
    {
      "cell_type": "markdown",
      "source": [
        "Citation\n",
        "\n",
        "J. Stallkamp, M. Schlipsing, J. Salmen, and C. Igel. The German Traffic Sign Recognition Benchmark: A multi-class classification competition. In Proceedings of the IEEE International Joint Conference on Neural Networks, pages 1453–1460. 2011. \n",
        "\n",
        "@inproceedings{Stallkamp-IJCNN-2011,\n",
        "    author = {Johannes Stallkamp and Marc Schlipsing and Jan Salmen and Christian Igel},\n",
        "    booktitle = {IEEE International Joint Conference on Neural Networks},\n",
        "    title = {The {G}erman {T}raffic {S}ign {R}ecognition {B}enchmark: A multi-class classification competition},\n",
        "    year = {2011},\n",
        "    pages = {1453--1460}\n",
        "}\n",
        "\n"
      ],
      "metadata": {
        "id": "y_ZtqNltPgGT"
      }
    },
    {
      "cell_type": "markdown",
      "source": [
        "- ( 0, b'Speed limit (20km/h)') ( 1, b'Speed limit (30km/h)')\n",
        "- ( 2, b'Speed limit (50km/h)') ( 3, b'Speed limit (60km/h)')\n",
        "- ( 4, b'Speed limit (70km/h)') ( 5, b'Speed limit (80km/h)')\n",
        "- ( 6, b'End of speed limit (80km/h)') ( 7, b'Speed limit (100km/h)')\n",
        "- ( 8, b'Speed limit (120km/h)') ( 9, b'No passing')\n",
        "- (10, b'No passing for vehicles over 3.5 metric tons')\n",
        "- (11, b'Right-of-way at the next intersection') (12, b'Priority road')\n",
        "- (13, b'Yield') (14, b'Stop') (15, b'No vehicles')\n",
        "- (16, b'Vehicles over 3.5 metric tons prohibited') (17, b'No entry')\n",
        "- (18, b'General caution') (19, b'Dangerous curve to the left')\n",
        "- (20, b'Dangerous curve to the right') (21, b'Double curve')\n",
        "- (22, b'Bumpy road') (23, b'Slippery road')\n",
        "- (24, b'Road narrows on the right') (25, b'Road work')\n",
        "- (26, b'Traffic signals') (27, b'Pedestrians') (28, b'Children crossing')\n",
        "- (29, b'Bicycles crossing') (30, b'Beware of ice/snow')\n",
        "- (31, b'Wild animals crossing')\n",
        "- (32, b'End of all speed and passing limits') (33, b'Turn right ahead')\n",
        "- (34, b'Turn left ahead') (35, b'Ahead only') (36, b'Go straight or right')\n",
        "- (37, b'Go straight or left') (38, b'Keep right') (39, b'Keep left')\n",
        "- (40, b'Roundabout mandatory') (41, b'End of no passing')\n",
        "- (42, b'End of no passing by vehicles over 3.5 metric tons')\n"
      ],
      "metadata": {
        "id": "nEbmBgFlPmWr"
      }
    },
    {
      "cell_type": "code",
      "execution_count": 1,
      "metadata": {
        "colab": {
          "base_uri": "https://localhost:8080/"
        },
        "id": "ym41PlDYPVBk",
        "outputId": "20848660-89e1-498c-b6fa-492a1a551486"
      },
      "outputs": [
        {
          "output_type": "stream",
          "name": "stdout",
          "text": [
            "Archive:  /content/traffic-signs-data.zip\n",
            "  inflating: traffic-signs-data/test.p  \n",
            "  inflating: traffic-signs-data/train.p  \n",
            "  inflating: traffic-signs-data/valid.p  \n"
          ]
        }
      ],
      "source": [
        "!unzip \"/content/traffic-signs-data.zip\""
      ]
    },
    {
      "cell_type": "code",
      "source": [
        "!rm -rf /content/traffic-signs-data.zip"
      ],
      "metadata": {
        "id": "7d8pHObHQE1-"
      },
      "execution_count": 2,
      "outputs": []
    },
    {
      "cell_type": "code",
      "source": [
        "import warnings\n",
        "warnings.filterwarnings(\"ignore\")"
      ],
      "metadata": {
        "id": "cg3m8wQeQbPC"
      },
      "execution_count": 3,
      "outputs": []
    },
    {
      "cell_type": "code",
      "source": [
        "# import libraries \n",
        "import pickle\n",
        "\n",
        "import pandas as pd # Import Pandas for data manipulation using dataframes\n",
        "import numpy as np # Import Numpy for data statistical analysis \n",
        "import matplotlib.pyplot as plt # Import matplotlib for data visualisation\n",
        "import random"
      ],
      "metadata": {
        "id": "3JmMtLGlQdhq"
      },
      "execution_count": 4,
      "outputs": []
    },
    {
      "cell_type": "code",
      "source": [
        "with open(\"./traffic-signs-data/train.p\", mode='rb') as training_data:\n",
        "    train = pickle.load(training_data)\n",
        "with open(\"./traffic-signs-data/valid.p\", mode='rb') as validation_data:\n",
        "    valid = pickle.load(validation_data)\n",
        "with open(\"./traffic-signs-data/test.p\", mode='rb') as testing_data:\n",
        "    test = pickle.load(testing_data)"
      ],
      "metadata": {
        "id": "HHEDzaH7Qdqv"
      },
      "execution_count": 5,
      "outputs": []
    },
    {
      "cell_type": "code",
      "source": [
        "X_train, y_train = train['features'], train['labels']\n",
        "X_validation, y_validation = valid['features'], valid['labels']\n",
        "X_test, y_test = test['features'], test['labels']\n"
      ],
      "metadata": {
        "id": "W764IydGSdGr"
      },
      "execution_count": 6,
      "outputs": []
    },
    {
      "cell_type": "code",
      "source": [
        "X_train.shape"
      ],
      "metadata": {
        "colab": {
          "base_uri": "https://localhost:8080/"
        },
        "id": "lkxZAnnNSdrC",
        "outputId": "88c8d8b9-e5b1-4250-b8f4-7b892042de99"
      },
      "execution_count": 7,
      "outputs": [
        {
          "output_type": "execute_result",
          "data": {
            "text/plain": [
              "(34799, 32, 32, 3)"
            ]
          },
          "metadata": {},
          "execution_count": 7
        }
      ]
    },
    {
      "cell_type": "code",
      "source": [
        "y_train.shape"
      ],
      "metadata": {
        "colab": {
          "base_uri": "https://localhost:8080/"
        },
        "id": "NJdDLErVSf8D",
        "outputId": "d3193ea1-9abe-4285-a5fd-a42b4fa5c9ba"
      },
      "execution_count": 8,
      "outputs": [
        {
          "output_type": "execute_result",
          "data": {
            "text/plain": [
              "(34799,)"
            ]
          },
          "metadata": {},
          "execution_count": 8
        }
      ]
    },
    {
      "cell_type": "code",
      "source": [
        "i = 1001\n",
        "plt.imshow(X_train[i]) # Show images are not shuffled\n",
        "y_train[i]"
      ],
      "metadata": {
        "colab": {
          "base_uri": "https://localhost:8080/",
          "height": 284
        },
        "id": "y68irgY_SiD7",
        "outputId": "6874e90d-1625-4c16-bff3-2b2127d192b6"
      },
      "execution_count": 11,
      "outputs": [
        {
          "output_type": "execute_result",
          "data": {
            "text/plain": [
              "36"
            ]
          },
          "metadata": {},
          "execution_count": 11
        },
        {
          "output_type": "display_data",
          "data": {
            "text/plain": [
              "<Figure size 432x288 with 1 Axes>"
            ],
            "image/png": "[encoded data removed]"
          },
          "metadata": {
            "needs_background": "light"
          }
        }
      ]
    },
    {
      "cell_type": "code",
      "source": [
        "## Shuffle the dataset \n",
        "from sklearn.utils import shuffle\n",
        "X_train, y_train = shuffle(X_train, y_train)"
      ],
      "metadata": {
        "id": "PKPACzncSkdD"
      },
      "execution_count": 12,
      "outputs": []
    },
    {
      "cell_type": "code",
      "source": [
        "X_train_gray = np.sum(X_train/3, axis=3, keepdims=True)\n",
        "X_test_gray  = np.sum(X_test/3, axis=3, keepdims=True)\n",
        "X_validation_gray  = np.sum(X_validation/3, axis=3, keepdims=True) "
      ],
      "metadata": {
        "id": "1o4IBjMASrNz"
      },
      "execution_count": 13,
      "outputs": []
    },
    {
      "cell_type": "code",
      "source": [
        "X_train_gray_norm = (X_train_gray - 128)/128 \n",
        "X_test_gray_norm = (X_test_gray - 128)/128\n",
        "X_validation_gray_norm = (X_validation_gray - 128)/128"
      ],
      "metadata": {
        "id": "9IGzp-8SStRE"
      },
      "execution_count": 14,
      "outputs": []
    },
    {
      "cell_type": "code",
      "source": [
        "X_train_gray.shape"
      ],
      "metadata": {
        "colab": {
          "base_uri": "https://localhost:8080/"
        },
        "id": "sljWfu6OSvIr",
        "outputId": "a55d0d33-b7d5-4d30-e811-bee9259413fb"
      },
      "execution_count": 15,
      "outputs": [
        {
          "output_type": "execute_result",
          "data": {
            "text/plain": [
              "(34799, 32, 32, 1)"
            ]
          },
          "metadata": {},
          "execution_count": 15
        }
      ]
    },
    {
      "cell_type": "code",
      "source": [
        "i = 610\n",
        "plt.imshow(X_train_gray[i].squeeze(), cmap='gray')\n",
        "plt.figure()\n",
        "plt.imshow(X_train[i])"
      ],
      "metadata": {
        "colab": {
          "base_uri": "https://localhost:8080/",
          "height": 533
        },
        "id": "d_YiJ-7KSw9M",
        "outputId": "db51e5bc-9ca0-4a2f-dd0b-561a0a8ab876"
      },
      "execution_count": 16,
      "outputs": [
        {
          "output_type": "execute_result",
          "data": {
            "text/plain": [
              "<matplotlib.image.AxesImage at 0x7f384b97bb90>"
            ]
          },
          "metadata": {},
          "execution_count": 16
        },
        {
          "output_type": "display_data",
          "data": {
            "text/plain": [
              "<Figure size 432x288 with 1 Axes>"
            ],
            "image/png": "[encoded data removed]"
          },
          "metadata": {
            "needs_background": "light"
          }
        },
        {
          "output_type": "display_data",
          "data": {
            "text/plain": [
              "<Figure size 432x288 with 1 Axes>"
            ],
            "image/png": "[encoded data removed]"
          },
          "metadata": {
            "needs_background": "light"
          }
        }
      ]
    },
    {
      "cell_type": "code",
      "source": [
        "# Import train_test_split from scikit library\n",
        "# Import Keras\n",
        "# import keras\n",
        "from tensorflow.keras.models import Sequential\n",
        "from tensorflow.keras.layers import Conv2D, MaxPooling2D, Dense, Flatten, Dropout\n",
        "from tensorflow.keras.optimizers import Adam\n",
        "from tensorflow.keras.callbacks import TensorBoard\n",
        "\n",
        "# from subprocess import check_output\n",
        "from sklearn.model_selection import train_test_split"
      ],
      "metadata": {
        "id": "kbhR90GwSzPz"
      },
      "execution_count": 17,
      "outputs": []
    },
    {
      "cell_type": "code",
      "source": [
        "image_shape = X_train_gray[i].shape"
      ],
      "metadata": {
        "id": "lbyfSoFDS2Gc"
      },
      "execution_count": 18,
      "outputs": []
    },
    {
      "cell_type": "code",
      "source": [
        "cnn_model = Sequential()\n",
        "cnn_model.add(Conv2D(32,3, 3, input_shape = image_shape, activation='relu'))\n",
        "cnn_model.add(MaxPooling2D(pool_size = (2, 2)))\n",
        "cnn_model.add(Flatten())\n",
        "cnn_model.add(Dense(32, activation = 'relu'))\n",
        "cnn_model.add(Dense(43, activation = 'sigmoid'))"
      ],
      "metadata": {
        "id": "UjlJVhRkS4T9"
      },
      "execution_count": 19,
      "outputs": []
    },
    {
      "cell_type": "code",
      "source": [
        "cnn_model.compile(loss ='sparse_categorical_crossentropy', optimizer=Adam(lr=0.001),metrics =['accuracy'])"
      ],
      "metadata": {
        "id": "MEN4mfbES6ij"
      },
      "execution_count": 20,
      "outputs": []
    },
    {
      "cell_type": "code",
      "source": [
        "history = cnn_model.fit(X_train_gray_norm,\n",
        "                        y_train,\n",
        "                        batch_size=500,\n",
        "                        epochs=50,\n",
        "                        verbose=1,\n",
        "                        validation_data = (X_validation_gray_norm,y_validation))"
      ],
      "metadata": {
        "colab": {
          "base_uri": "https://localhost:8080/"
        },
        "id": "lSFogK1hS8lM",
        "outputId": "5b05825d-677c-43f4-ca21-69a4ec92b889"
      },
      "execution_count": 21,
      "outputs": [
        {
          "output_type": "stream",
          "name": "stdout",
          "text": [
            "Epoch 1/50\n",
            "70/70 [==============================] - 3s 35ms/step - loss: 3.4379 - accuracy: 0.0968 - val_loss: 3.4563 - val_accuracy: 0.1129\n",
            "Epoch 2/50\n",
            "70/70 [==============================] - 2s 32ms/step - loss: 3.0450 - accuracy: 0.2150 - val_loss: 3.1091 - val_accuracy: 0.2281\n",
            "Epoch 3/50\n",
            "70/70 [==============================] - 2s 34ms/step - loss: 2.5970 - accuracy: 0.3173 - val_loss: 2.7023 - val_accuracy: 0.2948\n",
            "Epoch 4/50\n",
            "70/70 [==============================] - 2s 32ms/step - loss: 2.1947 - accuracy: 0.4122 - val_loss: 2.3590 - val_accuracy: 0.3887\n",
            "Epoch 5/50\n",
            "70/70 [==============================] - 3s 41ms/step - loss: 1.8935 - accuracy: 0.4847 - val_loss: 2.1238 - val_accuracy: 0.4127\n",
            "Epoch 6/50\n",
            "70/70 [==============================] - 2s 32ms/step - loss: 1.6655 - accuracy: 0.5416 - val_loss: 1.9196 - val_accuracy: 0.4590\n",
            "Epoch 7/50\n",
            "70/70 [==============================] - 2s 33ms/step - loss: 1.4876 - accuracy: 0.5875 - val_loss: 1.7483 - val_accuracy: 0.5150\n",
            "Epoch 8/50\n",
            "70/70 [==============================] - 3s 36ms/step - loss: 1.3555 - accuracy: 0.6195 - val_loss: 1.6824 - val_accuracy: 0.5240\n",
            "Epoch 9/50\n",
            "70/70 [==============================] - 4s 58ms/step - loss: 1.2452 - accuracy: 0.6525 - val_loss: 1.5814 - val_accuracy: 0.5624\n",
            "Epoch 10/50\n",
            "70/70 [==============================] - 2s 32ms/step - loss: 1.1584 - accuracy: 0.6733 - val_loss: 1.5158 - val_accuracy: 0.5855\n",
            "Epoch 11/50\n",
            "70/70 [==============================] - 2s 32ms/step - loss: 1.0834 - accuracy: 0.6937 - val_loss: 1.4402 - val_accuracy: 0.5980\n",
            "Epoch 12/50\n",
            "70/70 [==============================] - 3s 42ms/step - loss: 1.0235 - accuracy: 0.7121 - val_loss: 1.4230 - val_accuracy: 0.6016\n",
            "Epoch 13/50\n",
            "70/70 [==============================] - 5s 66ms/step - loss: 0.9750 - accuracy: 0.7253 - val_loss: 1.3747 - val_accuracy: 0.6236\n",
            "Epoch 14/50\n",
            "70/70 [==============================] - 4s 62ms/step - loss: 0.9283 - accuracy: 0.7391 - val_loss: 1.3115 - val_accuracy: 0.6351\n",
            "Epoch 15/50\n",
            "70/70 [==============================] - 5s 64ms/step - loss: 0.8909 - accuracy: 0.7488 - val_loss: 1.3358 - val_accuracy: 0.6193\n",
            "Epoch 16/50\n",
            "70/70 [==============================] - 3s 43ms/step - loss: 0.8570 - accuracy: 0.7584 - val_loss: 1.2836 - val_accuracy: 0.6735\n",
            "Epoch 17/50\n",
            "70/70 [==============================] - 2s 33ms/step - loss: 0.8237 - accuracy: 0.7725 - val_loss: 1.2755 - val_accuracy: 0.6644\n",
            "Epoch 18/50\n",
            "70/70 [==============================] - 4s 54ms/step - loss: 0.7980 - accuracy: 0.7775 - val_loss: 1.2571 - val_accuracy: 0.6585\n",
            "Epoch 19/50\n",
            "70/70 [==============================] - 4s 59ms/step - loss: 0.7740 - accuracy: 0.7825 - val_loss: 1.2316 - val_accuracy: 0.6519\n",
            "Epoch 20/50\n",
            "70/70 [==============================] - 2s 33ms/step - loss: 0.7564 - accuracy: 0.7869 - val_loss: 1.2751 - val_accuracy: 0.6596\n",
            "Epoch 21/50\n",
            "70/70 [==============================] - 2s 33ms/step - loss: 0.7297 - accuracy: 0.7949 - val_loss: 1.2321 - val_accuracy: 0.6778\n",
            "Epoch 22/50\n",
            "70/70 [==============================] - 2s 33ms/step - loss: 0.7111 - accuracy: 0.8004 - val_loss: 1.2103 - val_accuracy: 0.6848\n",
            "Epoch 23/50\n",
            "70/70 [==============================] - 2s 33ms/step - loss: 0.6939 - accuracy: 0.8062 - val_loss: 1.1948 - val_accuracy: 0.6859\n",
            "Epoch 24/50\n",
            "70/70 [==============================] - 2s 33ms/step - loss: 0.6699 - accuracy: 0.8140 - val_loss: 1.1772 - val_accuracy: 0.7079\n",
            "Epoch 25/50\n",
            "70/70 [==============================] - 2s 33ms/step - loss: 0.6550 - accuracy: 0.8168 - val_loss: 1.1472 - val_accuracy: 0.7111\n",
            "Epoch 26/50\n",
            "70/70 [==============================] - 2s 33ms/step - loss: 0.6416 - accuracy: 0.8215 - val_loss: 1.1372 - val_accuracy: 0.7063\n",
            "Epoch 27/50\n",
            "70/70 [==============================] - 2s 33ms/step - loss: 0.6303 - accuracy: 0.8232 - val_loss: 1.1491 - val_accuracy: 0.7104\n",
            "Epoch 28/50\n",
            "70/70 [==============================] - 2s 33ms/step - loss: 0.6156 - accuracy: 0.8286 - val_loss: 1.1648 - val_accuracy: 0.6973\n",
            "Epoch 29/50\n",
            "70/70 [==============================] - 2s 33ms/step - loss: 0.6001 - accuracy: 0.8328 - val_loss: 1.1490 - val_accuracy: 0.7104\n",
            "Epoch 30/50\n",
            "70/70 [==============================] - 2s 32ms/step - loss: 0.5938 - accuracy: 0.8317 - val_loss: 1.1882 - val_accuracy: 0.6932\n",
            "Epoch 31/50\n",
            "70/70 [==============================] - 2s 33ms/step - loss: 0.5807 - accuracy: 0.8392 - val_loss: 1.1186 - val_accuracy: 0.7227\n",
            "Epoch 32/50\n",
            "70/70 [==============================] - 2s 33ms/step - loss: 0.5645 - accuracy: 0.8456 - val_loss: 1.1139 - val_accuracy: 0.7256\n",
            "Epoch 33/50\n",
            "70/70 [==============================] - 2s 33ms/step - loss: 0.5570 - accuracy: 0.8461 - val_loss: 1.1280 - val_accuracy: 0.7263\n",
            "Epoch 34/50\n",
            "70/70 [==============================] - 2s 33ms/step - loss: 0.5463 - accuracy: 0.8506 - val_loss: 1.0803 - val_accuracy: 0.7424\n",
            "Epoch 35/50\n",
            "70/70 [==============================] - 2s 33ms/step - loss: 0.5353 - accuracy: 0.8524 - val_loss: 1.1591 - val_accuracy: 0.7125\n",
            "Epoch 36/50\n",
            "70/70 [==============================] - 2s 33ms/step - loss: 0.5245 - accuracy: 0.8572 - val_loss: 1.1503 - val_accuracy: 0.7093\n",
            "Epoch 37/50\n",
            "70/70 [==============================] - 2s 33ms/step - loss: 0.5185 - accuracy: 0.8588 - val_loss: 1.1282 - val_accuracy: 0.7195\n",
            "Epoch 38/50\n",
            "70/70 [==============================] - 2s 33ms/step - loss: 0.5096 - accuracy: 0.8604 - val_loss: 1.1438 - val_accuracy: 0.7159\n",
            "Epoch 39/50\n",
            "70/70 [==============================] - 2s 33ms/step - loss: 0.5032 - accuracy: 0.8616 - val_loss: 1.1102 - val_accuracy: 0.7209\n",
            "Epoch 40/50\n",
            "70/70 [==============================] - 2s 33ms/step - loss: 0.4953 - accuracy: 0.8656 - val_loss: 1.1270 - val_accuracy: 0.7227\n",
            "Epoch 41/50\n",
            "70/70 [==============================] - 2s 33ms/step - loss: 0.4843 - accuracy: 0.8674 - val_loss: 1.1163 - val_accuracy: 0.7302\n",
            "Epoch 42/50\n",
            "70/70 [==============================] - 2s 33ms/step - loss: 0.4781 - accuracy: 0.8702 - val_loss: 1.1118 - val_accuracy: 0.7347\n",
            "Epoch 43/50\n",
            "70/70 [==============================] - 2s 33ms/step - loss: 0.4725 - accuracy: 0.8711 - val_loss: 1.1214 - val_accuracy: 0.7320\n",
            "Epoch 44/50\n",
            "70/70 [==============================] - 2s 33ms/step - loss: 0.4659 - accuracy: 0.8705 - val_loss: 1.1180 - val_accuracy: 0.7311\n",
            "Epoch 45/50\n",
            "70/70 [==============================] - 2s 33ms/step - loss: 0.4612 - accuracy: 0.8738 - val_loss: 1.1191 - val_accuracy: 0.7345\n",
            "Epoch 46/50\n",
            "70/70 [==============================] - 2s 33ms/step - loss: 0.4502 - accuracy: 0.8794 - val_loss: 1.0795 - val_accuracy: 0.7440\n",
            "Epoch 47/50\n",
            "70/70 [==============================] - 3s 38ms/step - loss: 0.4485 - accuracy: 0.8777 - val_loss: 1.1041 - val_accuracy: 0.7290\n",
            "Epoch 48/50\n",
            "70/70 [==============================] - 2s 33ms/step - loss: 0.4414 - accuracy: 0.8807 - val_loss: 1.1125 - val_accuracy: 0.7390\n",
            "Epoch 49/50\n",
            "70/70 [==============================] - 2s 33ms/step - loss: 0.4371 - accuracy: 0.8806 - val_loss: 1.1113 - val_accuracy: 0.7385\n",
            "Epoch 50/50\n",
            "70/70 [==============================] - 2s 33ms/step - loss: 0.4294 - accuracy: 0.8832 - val_loss: 1.0836 - val_accuracy: 0.7399\n"
          ]
        }
      ]
    },
    {
      "cell_type": "code",
      "source": [
        "score = cnn_model.evaluate(X_test_gray_norm, y_test,verbose=0)\n",
        "print('Test Accuracy : {:.4f}'.format(score[1]))"
      ],
      "metadata": {
        "colab": {
          "base_uri": "https://localhost:8080/"
        },
        "id": "OWPY8rIDS-i8",
        "outputId": "0912e739-3506-40b0-9e1f-2d3dcb0413ba"
      },
      "execution_count": 22,
      "outputs": [
        {
          "output_type": "stream",
          "name": "stdout",
          "text": [
            "Test Accuracy : 0.7271\n"
          ]
        }
      ]
    },
    {
      "cell_type": "code",
      "source": [
        "import matplotlib.pyplot as plt\n",
        "%matplotlib inline\n",
        "accuracy = history.history['accuracy']\n",
        "val_accuracy = history.history['val_accuracy']\n",
        "loss = history.history['loss']\n",
        "val_loss = history.history['val_loss']\n",
        "epochs = range(len(accuracy))\n",
        "plt.plot(epochs, accuracy, 'bo', label='Training Accuracy')\n",
        "plt.plot(epochs, val_accuracy, 'b', label='Validation Accuracy')\n",
        "plt.title('Training and Validation accuracy')\n",
        "plt.legend()\n",
        "plt.figure()\n",
        "plt.plot(epochs, loss, 'bo', label='Training Loss')\n",
        "plt.plot(epochs, val_loss, 'b', label='Validation Loss')\n",
        "plt.title('Training and validation loss')\n",
        "plt.legend()\n",
        "plt.show()"
      ],
      "metadata": {
        "colab": {
          "base_uri": "https://localhost:8080/",
          "height": 545
        },
        "id": "X5nB8j-UTBfp",
        "outputId": "8a65dccb-2912-4f57-8962-53f2f36b55af"
      },
      "execution_count": 23,
      "outputs": [
        {
          "output_type": "display_data",
          "data": {
            "text/plain": [
              "<Figure size 432x288 with 1 Axes>"
            ],
            "image/png": "[encoded data removed]"
          },
          "metadata": {
            "needs_background": "light"
          }
        },
        {
          "output_type": "display_data",
          "data": {
            "text/plain": [
              "<Figure size 432x288 with 1 Axes>"
            ],
            "image/png": "[encoded data removed]"
          },
          "metadata": {
            "needs_background": "light"
          }
        }
      ]
    },
    {
      "cell_type": "code",
      "source": [
        "#get the predictions for the test data\n",
        "\n",
        "# Deprecated way pre-Tensorflow 2.6:\n",
        "#predicted_classes = cnn_model.predict_classes(X_test_gray_norm)\n",
        "\n",
        "# New way:\n",
        "predict_x = cnn_model.predict(X_test_gray_norm)\n",
        "predicted_classes = np.argmax(predict_x, axis=1)\n",
        "\n",
        "#get the indices to be plotted\n",
        "y_true = y_test"
      ],
      "metadata": {
        "id": "ZAamotVJTGEy"
      },
      "execution_count": 24,
      "outputs": []
    },
    {
      "cell_type": "code",
      "source": [
        "from sklearn.metrics import confusion_matrix\n",
        "cm = confusion_matrix(y_true, predicted_classes)\n",
        "cm"
      ],
      "metadata": {
        "colab": {
          "base_uri": "https://localhost:8080/"
        },
        "id": "aWzueUPFTGwE",
        "outputId": "0140f8d0-4d18-48f7-a98b-00d75033766a"
      },
      "execution_count": 25,
      "outputs": [
        {
          "output_type": "execute_result",
          "data": {
            "text/plain": [
              "array([[ 16,  21,   2, ...,   0,   0,   0],\n",
              "       [ 82, 461,  60, ...,  11,   0,   0],\n",
              "       [ 47, 102, 461, ...,   7,   0,   0],\n",
              "       ...,\n",
              "       [  0,   6,   3, ...,  29,   1,   2],\n",
              "       [  0,   0,   0, ...,   0,  19,   1],\n",
              "       [  0,   0,   0, ...,   0,  22,  51]])"
            ]
          },
          "metadata": {},
          "execution_count": 25
        }
      ]
    },
    {
      "cell_type": "code",
      "source": [
        "for i in range(0,12):\n",
        "    plt.subplot(4,3,i+1)\n",
        "    plt.imshow(X_test_gray_norm[i+10].squeeze(), cmap='gray', interpolation='none')\n",
        "    plt.title(\"Predicted {}, Class {}\".format(predicted_classes[i+10], y_true[i+10]))\n",
        "    plt.tight_layout()"
      ],
      "metadata": {
        "colab": {
          "base_uri": "https://localhost:8080/",
          "height": 297
        },
        "id": "6s7_BnkyTJXa",
        "outputId": "45473103-0a5c-4790-9066-8519c370ea35"
      },
      "execution_count": 26,
      "outputs": [
        {
          "output_type": "display_data",
          "data": {
            "text/plain": [
              "<Figure size 432x288 with 12 Axes>"
            ],
            "image/png": "[encoded data removed]"
          },
          "metadata": {
            "needs_background": "light"
          }
        }
      ]
    }
  ]
}